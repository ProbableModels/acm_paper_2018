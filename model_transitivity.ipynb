{
 "cells": [
  {
   "cell_type": "markdown",
   "metadata": {},
   "source": [
    "# Transitivity of Models\n",
    "\n",
    "In this lesson, we show that the importants of understanding the assumptions that a particular model makes about the data it is modeling."
   ]
  },
  {
   "cell_type": "markdown",
   "metadata": {},
   "source": [
    "Let's say you are going through the literature and find the following results:\n",
    "\n",
    "### Task A\n",
    "\n",
    "| Algorithm | Accuracy |\n",
    "| --------- | -------- |\n",
    "| A         | 0.75     |\n",
    "| B         | 0.89     |\n",
    "\n",
    "### Task B\n",
    "\n",
    "| Algorithm | Accuracy |\n",
    "| --------- | -------- |\n",
    "| B         | 0.92     |\n",
    "| C         | 0.97     |\n",
    "\n",
    "What are your conclusions? What questions do you have? If your task was to solve Task A, Task B or a third Task C, do these results inform which algorithms you would pick?"
   ]
  },
  {
   "cell_type": "code",
   "execution_count": 1,
   "metadata": {},
   "outputs": [
    {
     "name": "stderr",
     "output_type": "stream",
     "text": [
      "/home/micha/projects/acm_paper_2018/venv/lib/python3.6/site-packages/h5py/__init__.py:36: FutureWarning: Conversion of the second argument of issubdtype from `float` to `np.floating` is deprecated. In future, it will be treated as `np.float64 == np.dtype(float).type`.\n",
      "  from ._conv import register_converters as _register_converters\n",
      "Using Theano backend.\n",
      "WARNING (theano.tensor.blas): Using NumPy C-API based implementation for BLAS functions.\n"
     ]
    }
   ],
   "source": [
    "import numpy as np\n",
    "\n",
    "from sklearn.linear_model import LogisticRegression\n",
    "from sklearn.ensemble import RandomForestClassifier\n",
    "from sklearn.model_selection import train_test_split\n",
    "from sklearn.model_selection import cross_val_score\n",
    "\n",
    "import keras\n",
    "from keras.models import Model\n",
    "from keras.layers import Input, Dense, Conv2D, MaxPooling2D, Dropout, Flatten, Reshape\n",
    "from keras.wrappers.scikit_learn import KerasClassifier\n",
    "from keras.callbacks import EarlyStopping"
   ]
  },
  {
   "cell_type": "code",
   "execution_count": 2,
   "metadata": {},
   "outputs": [],
   "source": [
    "import pylab as py\n",
    "import seaborn as sns"
   ]
  },
  {
   "cell_type": "code",
   "execution_count": 3,
   "metadata": {},
   "outputs": [],
   "source": [
    "from keras import datasets\n",
    "import pandas as pd"
   ]
  },
  {
   "cell_type": "code",
   "execution_count": 4,
   "metadata": {},
   "outputs": [],
   "source": [
    "def run_experiment(model, X, y, **fit_params):\n",
    "    return cross_val_score(model, X, y, cv=3, scoring='accuracy', n_jobs=-1, fit_params=fit_params)\n",
    "\n",
    "def plot_scores(dataset, scores, names):\n",
    "    py.boxplot(scores)\n",
    "    py.title('{} on {} dataset'.format(\" vs \".join(names), dataset))\n",
    "    py.ylabel('Accuracy')\n",
    "    py.xticks(np.arange(len(names))+1, names)\n",
    "    \n",
    "np.random.seed(4242)"
   ]
  },
  {
   "cell_type": "markdown",
   "metadata": {},
   "source": [
    "## First, let's train logistic regression and an RFC on the IRIS dataset"
   ]
  },
  {
   "cell_type": "code",
   "execution_count": 5,
   "metadata": {},
   "outputs": [
    {
     "name": "stdout",
     "output_type": "stream",
     "text": [
      "Loading IRIS\n"
     ]
    },
    {
     "data": {
      "text/html": [
       "<div>\n",
       "<style scoped>\n",
       "    .dataframe tbody tr th:only-of-type {\n",
       "        vertical-align: middle;\n",
       "    }\n",
       "\n",
       "    .dataframe tbody tr th {\n",
       "        vertical-align: top;\n",
       "    }\n",
       "\n",
       "    .dataframe thead th {\n",
       "        text-align: right;\n",
       "    }\n",
       "</style>\n",
       "<table border=\"1\" class=\"dataframe\">\n",
       "  <thead>\n",
       "    <tr style=\"text-align: right;\">\n",
       "      <th></th>\n",
       "      <th>sepal_length</th>\n",
       "      <th>sepal_width</th>\n",
       "      <th>petal_length</th>\n",
       "      <th>petal_width</th>\n",
       "      <th>species</th>\n",
       "    </tr>\n",
       "  </thead>\n",
       "  <tbody>\n",
       "    <tr>\n",
       "      <th>0</th>\n",
       "      <td>4.6</td>\n",
       "      <td>3.4</td>\n",
       "      <td>1.4</td>\n",
       "      <td>0.3</td>\n",
       "      <td>setosa</td>\n",
       "    </tr>\n",
       "    <tr>\n",
       "      <th>1</th>\n",
       "      <td>7.7</td>\n",
       "      <td>3.0</td>\n",
       "      <td>6.1</td>\n",
       "      <td>2.3</td>\n",
       "      <td>virginica</td>\n",
       "    </tr>\n",
       "    <tr>\n",
       "      <th>2</th>\n",
       "      <td>6.4</td>\n",
       "      <td>2.7</td>\n",
       "      <td>5.3</td>\n",
       "      <td>1.9</td>\n",
       "      <td>virginica</td>\n",
       "    </tr>\n",
       "    <tr>\n",
       "      <th>3</th>\n",
       "      <td>6.4</td>\n",
       "      <td>2.9</td>\n",
       "      <td>4.3</td>\n",
       "      <td>1.3</td>\n",
       "      <td>versicolor</td>\n",
       "    </tr>\n",
       "    <tr>\n",
       "      <th>4</th>\n",
       "      <td>4.8</td>\n",
       "      <td>3.4</td>\n",
       "      <td>1.6</td>\n",
       "      <td>0.2</td>\n",
       "      <td>setosa</td>\n",
       "    </tr>\n",
       "  </tbody>\n",
       "</table>\n",
       "</div>"
      ],
      "text/plain": [
       "   sepal_length  sepal_width  petal_length  petal_width     species\n",
       "0           4.6          3.4           1.4          0.3      setosa\n",
       "1           7.7          3.0           6.1          2.3   virginica\n",
       "2           6.4          2.7           5.3          1.9   virginica\n",
       "3           6.4          2.9           4.3          1.3  versicolor\n",
       "4           4.8          3.4           1.6          0.2      setosa"
      ]
     },
     "execution_count": 5,
     "metadata": {},
     "output_type": "execute_result"
    }
   ],
   "source": [
    "print(\"Loading IRIS\")\n",
    "iris = pd.read_csv('./data/iris.csv', dtype={'species':'category'})\n",
    "iris = iris.sample(frac=1).reset_index(drop=True)  # shuffle\n",
    "iris_features = ['sepal_length', 'sepal_width', 'petal_length', 'petal_width']\n",
    "iris_target = 'species'\n",
    "iris.head()"
   ]
  },
  {
   "cell_type": "code",
   "execution_count": 6,
   "metadata": {},
   "outputs": [],
   "source": [
    "iris_X, iris_y = iris[iris_features].values, iris['species'].cat.codes.values"
   ]
  },
  {
   "cell_type": "code",
   "execution_count": 7,
   "metadata": {},
   "outputs": [],
   "source": [
    "iris_logit = LogisticRegression()\n",
    "iris_rfc = RandomForestClassifier(n_estimators=20)"
   ]
  },
  {
   "cell_type": "code",
   "execution_count": 8,
   "metadata": {},
   "outputs": [],
   "source": [
    "iris_logit_scores = run_experiment(iris_logit, iris_X, iris_y)\n",
    "iris_rfc_scores = run_experiment(iris_rfc, iris_X, iris_y)"
   ]
  },
  {
   "cell_type": "code",
   "execution_count": 9,
   "metadata": {},
   "outputs": [
    {
     "data": {
      "image/png": "[encoded data removed]",
      "text/plain": [
       "<Figure size 432x288 with 1 Axes>"
      ]
     },
     "metadata": {},
     "output_type": "display_data"
    }
   ],
   "source": [
    "plot_scores(\"IRIS\", [iris_logit_scores, iris_rfc_scores], ['Logistic Reression', 'rfc'])"
   ]
  },
  {
   "cell_type": "markdown",
   "metadata": {},
   "source": [
    "We can see that on average, the random forest classifier does better than the logistic regression. Let's take that model and use it on the next dataset."
   ]
  },
  {
   "cell_type": "markdown",
   "metadata": {},
   "source": [
    "## Now let's train an rfc and a CNN on MNIST"
   ]
  },
  {
   "cell_type": "code",
   "execution_count": 10,
   "metadata": {},
   "outputs": [
    {
     "name": "stdout",
     "output_type": "stream",
     "text": [
      "Fetching MNIST\n"
     ]
    }
   ],
   "source": [
    "print(\"Fetching MNIST\")\n",
    "(x_train, y_train), (x_test, y_test) = datasets.mnist.load_data()\n",
    "\n",
    "mnist_X = np.vstack([x_train, x_test]) / 255\n",
    "mnist_X = mnist_X.reshape((mnist_X.shape[0], -1))\n",
    "mnist_y = np.concatenate([y_train, y_test])\n",
    "\n",
    "random_idx = np.random.permutation(mnist_X.shape[0])\n",
    "mnist_X = mnist_X[random_idx]\n",
    "mnist_y = mnist_y[random_idx]"
   ]
  },
  {
   "cell_type": "code",
   "execution_count": 11,
   "metadata": {},
   "outputs": [],
   "source": [
    "def create_basic_cnn(n_features=784, n_classes=10):\n",
    "    width = int(n_features**0.5)\n",
    "    X_in = X = Input(shape=(n_features,))\n",
    "    X = Reshape((width, width, 1))(X)\n",
    "    X = Conv2D(8, kernel_size=(2, 2), activation='relu')(X)\n",
    "    X = Dropout(0.25)(X)\n",
    "    X = Flatten()(X)\n",
    "    X = Dense(n_classes, activation='softmax')(X)\n",
    "    model = Model(inputs=X_in, outputs=X)\n",
    "    model.compile(loss='sparse_categorical_crossentropy', optimizer='adam', metrics=['accuracy'])\n",
    "    return model"
   ]
  },
  {
   "cell_type": "code",
   "execution_count": 12,
   "metadata": {},
   "outputs": [],
   "source": [
    "mnist_rfc = RandomForestClassifier()\n",
    "mnist_cnn = KerasClassifier(\n",
    "    create_basic_cnn,\n",
    "    n_features=mnist_X.shape[-1],\n",
    "    n_classes=10,\n",
    ")"
   ]
  },
  {
   "cell_type": "code",
   "execution_count": 13,
   "metadata": {
    "scrolled": true
   },
   "outputs": [
    {
     "name": "stderr",
     "output_type": "stream",
     "text": [
      "INFO (theano.gof.compilelock): Waiting for existing lock by process '15023' (I am process '15024')\n",
      "INFO (theano.gof.compilelock): To manually release the lock, delete /home/micha/.theano/compiledir_Linux-4.4--generic-x86_64-with-Ubuntu-16.04-xenial-x86_64-3.6.5-64/lock_dir\n"
     ]
    }
   ],
   "source": [
    "mnist_rfc_scores = run_experiment(mnist_rfc, mnist_X, mnist_y)\n",
    "mnist_cnn_scores = run_experiment(mnist_cnn, mnist_X, mnist_y,\n",
    "                                  epochs=20, callbacks=[EarlyStopping()],\n",
    "                                  verbose=0, validation_split=0.1)"
   ]
  },
  {
   "cell_type": "code",
   "execution_count": 14,
   "metadata": {},
   "outputs": [
    {
     "data": {
      "image/png": "[encoded data removed]",
      "text/plain": [
       "<Figure size 432x288 with 1 Axes>"
      ]
     },
     "metadata": {},
     "output_type": "display_data"
    }
   ],
   "source": [
    "plot_scores(\"MNIST\", [mnist_rfc_scores, mnist_cnn_scores], ['rfc', 'CNN'])"
   ]
  },
  {
   "cell_type": "markdown",
   "metadata": {},
   "source": [
    "The CNN does drastically better than the random forest so it's easy to consider the CNN to be a better model. So is it better than the logistic regression?"
   ]
  },
  {
   "cell_type": "markdown",
   "metadata": {},
   "source": [
    "## But how well does the CNN compared to Logistic Regression on the IRIS dataset?"
   ]
  },
  {
   "cell_type": "code",
   "execution_count": 15,
   "metadata": {},
   "outputs": [],
   "source": [
    "iris_cnn = KerasClassifier(\n",
    "    create_basic_cnn,\n",
    "    n_features=iris_X.shape[-1],\n",
    "    n_classes=3,\n",
    ")"
   ]
  },
  {
   "cell_type": "code",
   "execution_count": 16,
   "metadata": {},
   "outputs": [
    {
     "name": "stderr",
     "output_type": "stream",
     "text": [
      "INFO (theano.gof.compilelock): Waiting for existing lock by unknown process (I am process '16866')\n",
      "INFO (theano.gof.compilelock): To manually release the lock, delete /home/micha/.theano/compiledir_Linux-4.4--generic-x86_64-with-Ubuntu-16.04-xenial-x86_64-3.6.5-64/lock_dir\n"
     ]
    }
   ],
   "source": [
    "iris_cnn_scores = run_experiment(iris_cnn, iris_X, iris_y,\n",
    "                                 epochs=20, callbacks=[EarlyStopping()],\n",
    "                                 verbose=0, validation_split=0.1)"
   ]
  },
  {
   "cell_type": "code",
   "execution_count": 17,
   "metadata": {},
   "outputs": [
    {
     "data": {
      "image/png": "[encoded data removed]",
      "text/plain": [
       "<Figure size 432x288 with 1 Axes>"
      ]
     },
     "metadata": {},
     "output_type": "display_data"
    }
   ],
   "source": [
    "plot_scores(\"IRIS\", [iris_logit_scores, iris_cnn_scores], ['Logistic Regression', 'CNN'])"
   ]
  },
  {
   "cell_type": "code",
   "execution_count": 18,
   "metadata": {},
   "outputs": [
    {
     "data": {
      "image/png": "[encoded data removed]",
      "text/plain": [
       "<Figure size 432x288 with 1 Axes>"
      ]
     },
     "metadata": {},
     "output_type": "display_data"
    }
   ],
   "source": [
    "plot_scores(\"All\",\n",
    "            [iris_logit_scores, iris_rfc_scores, mnist_rfc_scores, mnist_cnn_scores, iris_cnn_scores],\n",
    "            ['Logistic Regression', 'rfc1', 'SCV2', 'CNN1', 'CNN2'])"
   ]
  },
  {
   "cell_type": "markdown",
   "metadata": {},
   "source": [
    "So we see that even though, just looking at results, logit < rfc < cnn we also have cnn < logit. This shows that a system's performance is just as dependant on the data itself as it is on the modeling technique. It's important to realize that when picking a model, we are making decisions about properties we believe the data to have. In this case, the CNN explicitly makes the assumption that the data has some 2 dimensional structure... something which simply doesn't hold for the IRIS data.\n",
    "\n",
    "In this case the differences in accuracy were quite remarkable, however this effect is seen all the time in much more subtle ways. Looking at a wider range of example from the [scikit learn documentation](http://scikit-learn.org/stable/auto_examples/classification/plot_classifier_comparison.html) we see this conclusion even more starkly.\n",
    "\n",
    "![](./data/classifier_comparison.png)\n",
    "\n",
    "Here where we can also see the decision surface, it is also important to make determinations about the inferences being made by the model. Looking at the bottom row of results, multiple models achieve a 95% accuracy but they all make different conclusions about the regions in which we currently don't have data. Which one do you have more faith in for when that data comes in and what real world impacts do these decision surfaces have if these models were being used in a real situation?"
   ]
  },
  {
   "cell_type": "code",
   "execution_count": null,
   "metadata": {},
   "outputs": [],
   "source": []
  }
 ],
 "metadata": {
  "kernelspec": {
   "display_name": "Python 3",
   "language": "python",
   "name": "python3"
  },
  "language_info": {
   "codemirror_mode": {
    "name": "ipython",
    "version": 3
   },
   "file_extension": ".py",
   "mimetype": "text/x-python",
   "name": "python",
   "nbconvert_exporter": "python",
   "pygments_lexer": "ipython3",
   "version": "3.6.5"
  }
 },
 "nbformat": 4,
 "nbformat_minor": 2
}
