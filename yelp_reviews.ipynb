{
 "cells": [
  {
   "cell_type": "code",
   "execution_count": 1,
   "metadata": {},
   "outputs": [],
   "source": [
    "%matplotlib inline\n",
    "import seaborn as sns\n",
    "from IPython.core.pylabtools import figsize\n",
    "figsize(14, 7)"
   ]
  },
  {
   "cell_type": "code",
   "execution_count": 2,
   "metadata": {},
   "outputs": [],
   "source": [
    "import pandas as pd\n",
    "import numpy as np\n",
    "import pylab as py"
   ]
  },
  {
   "cell_type": "code",
   "execution_count": 3,
   "metadata": {},
   "outputs": [],
   "source": [
    "data_reviews = pd.read_csv(\"/data/datasets/social/yelp/yelp_review.csv\")\n",
    "data_business = pd.read_csv(\"/data/datasets/social/yelp/yelp_business.csv\")\n",
    "data = data_reviews.merge(data_business, on='business_id', suffixes=('_review', '_business'))\n",
    "del data_reviews\n",
    "del data_business"
   ]
  },
  {
   "cell_type": "code",
   "execution_count": 4,
   "metadata": {},
   "outputs": [
    {
     "data": {
      "text/html": [
       "<div>\n",
       "<style scoped>\n",
       "    .dataframe tbody tr th:only-of-type {\n",
       "        vertical-align: middle;\n",
       "    }\n",
       "\n",
       "    .dataframe tbody tr th {\n",
       "        vertical-align: top;\n",
       "    }\n",
       "\n",
       "    .dataframe thead th {\n",
       "        text-align: right;\n",
       "    }\n",
       "</style>\n",
       "<table border=\"1\" class=\"dataframe\">\n",
       "  <thead>\n",
       "    <tr style=\"text-align: right;\">\n",
       "      <th></th>\n",
       "      <th>review_id</th>\n",
       "      <th>user_id</th>\n",
       "      <th>business_id</th>\n",
       "      <th>stars_review</th>\n",
       "      <th>date</th>\n",
       "      <th>text</th>\n",
       "      <th>useful</th>\n",
       "      <th>funny</th>\n",
       "      <th>cool</th>\n",
       "      <th>name</th>\n",
       "      <th>...</th>\n",
       "      <th>address</th>\n",
       "      <th>city</th>\n",
       "      <th>state</th>\n",
       "      <th>postal_code</th>\n",
       "      <th>latitude</th>\n",
       "      <th>longitude</th>\n",
       "      <th>stars_business</th>\n",
       "      <th>review_count</th>\n",
       "      <th>is_open</th>\n",
       "      <th>categories</th>\n",
       "    </tr>\n",
       "  </thead>\n",
       "  <tbody>\n",
       "    <tr>\n",
       "      <th>0</th>\n",
       "      <td>vkVSCC7xljjrAI4UGfnKEQ</td>\n",
       "      <td>bv2nCi5Qv5vroFiqKGopiw</td>\n",
       "      <td>AEx2SYEUJmTxVVB18LlCwA</td>\n",
       "      <td>5</td>\n",
       "      <td>2016-05-28</td>\n",
       "      <td>Super simple place but amazing nonetheless. It...</td>\n",
       "      <td>0</td>\n",
       "      <td>0</td>\n",
       "      <td>0</td>\n",
       "      <td>\"Wilensky's\"</td>\n",
       "      <td>...</td>\n",
       "      <td>\"34 Avenue Fairmount Ouest\"</td>\n",
       "      <td>Montréal</td>\n",
       "      <td>QC</td>\n",
       "      <td>H2T 2M1</td>\n",
       "      <td>45.523333</td>\n",
       "      <td>-73.594859</td>\n",
       "      <td>4.0</td>\n",
       "      <td>84</td>\n",
       "      <td>1</td>\n",
       "      <td>Diners;Food;Restaurants;Delis</td>\n",
       "    </tr>\n",
       "    <tr>\n",
       "      <th>1</th>\n",
       "      <td>vm1b1keOzwHjtGZEPPuYXA</td>\n",
       "      <td>xYciRtVZ1PW4IxSX4oJ1aw</td>\n",
       "      <td>AEx2SYEUJmTxVVB18LlCwA</td>\n",
       "      <td>5</td>\n",
       "      <td>2016-02-22</td>\n",
       "      <td>*The shop was featured on Mind of a Chef with ...</td>\n",
       "      <td>4</td>\n",
       "      <td>3</td>\n",
       "      <td>4</td>\n",
       "      <td>\"Wilensky's\"</td>\n",
       "      <td>...</td>\n",
       "      <td>\"34 Avenue Fairmount Ouest\"</td>\n",
       "      <td>Montréal</td>\n",
       "      <td>QC</td>\n",
       "      <td>H2T 2M1</td>\n",
       "      <td>45.523333</td>\n",
       "      <td>-73.594859</td>\n",
       "      <td>4.0</td>\n",
       "      <td>84</td>\n",
       "      <td>1</td>\n",
       "      <td>Diners;Food;Restaurants;Delis</td>\n",
       "    </tr>\n",
       "    <tr>\n",
       "      <th>2</th>\n",
       "      <td>SXwA9KZ-Nc_hMARk_3cJ7g</td>\n",
       "      <td>5Ymfsf9fAYz-Ds_p0xawVQ</td>\n",
       "      <td>AEx2SYEUJmTxVVB18LlCwA</td>\n",
       "      <td>5</td>\n",
       "      <td>2013-03-29</td>\n",
       "      <td>As its name suggests, Wilensky's is a lunch co...</td>\n",
       "      <td>9</td>\n",
       "      <td>0</td>\n",
       "      <td>3</td>\n",
       "      <td>\"Wilensky's\"</td>\n",
       "      <td>...</td>\n",
       "      <td>\"34 Avenue Fairmount Ouest\"</td>\n",
       "      <td>Montréal</td>\n",
       "      <td>QC</td>\n",
       "      <td>H2T 2M1</td>\n",
       "      <td>45.523333</td>\n",
       "      <td>-73.594859</td>\n",
       "      <td>4.0</td>\n",
       "      <td>84</td>\n",
       "      <td>1</td>\n",
       "      <td>Diners;Food;Restaurants;Delis</td>\n",
       "    </tr>\n",
       "    <tr>\n",
       "      <th>3</th>\n",
       "      <td>jUzausdZ_ujqe_n8BlBj-g</td>\n",
       "      <td>DVOOF0Z627DyrZ4XKQbTgA</td>\n",
       "      <td>AEx2SYEUJmTxVVB18LlCwA</td>\n",
       "      <td>5</td>\n",
       "      <td>2017-08-08</td>\n",
       "      <td>Stopped by for the Wilensky's Special, loved i...</td>\n",
       "      <td>0</td>\n",
       "      <td>0</td>\n",
       "      <td>0</td>\n",
       "      <td>\"Wilensky's\"</td>\n",
       "      <td>...</td>\n",
       "      <td>\"34 Avenue Fairmount Ouest\"</td>\n",
       "      <td>Montréal</td>\n",
       "      <td>QC</td>\n",
       "      <td>H2T 2M1</td>\n",
       "      <td>45.523333</td>\n",
       "      <td>-73.594859</td>\n",
       "      <td>4.0</td>\n",
       "      <td>84</td>\n",
       "      <td>1</td>\n",
       "      <td>Diners;Food;Restaurants;Delis</td>\n",
       "    </tr>\n",
       "    <tr>\n",
       "      <th>4</th>\n",
       "      <td>oCRDwF3tszAkeszSfxwthg</td>\n",
       "      <td>5JoKz3mU42Cp906KRXDwJw</td>\n",
       "      <td>AEx2SYEUJmTxVVB18LlCwA</td>\n",
       "      <td>4</td>\n",
       "      <td>2009-01-17</td>\n",
       "      <td>I have to admit, I am a fan. Just entering the...</td>\n",
       "      <td>4</td>\n",
       "      <td>0</td>\n",
       "      <td>1</td>\n",
       "      <td>\"Wilensky's\"</td>\n",
       "      <td>...</td>\n",
       "      <td>\"34 Avenue Fairmount Ouest\"</td>\n",
       "      <td>Montréal</td>\n",
       "      <td>QC</td>\n",
       "      <td>H2T 2M1</td>\n",
       "      <td>45.523333</td>\n",
       "      <td>-73.594859</td>\n",
       "      <td>4.0</td>\n",
       "      <td>84</td>\n",
       "      <td>1</td>\n",
       "      <td>Diners;Food;Restaurants;Delis</td>\n",
       "    </tr>\n",
       "  </tbody>\n",
       "</table>\n",
       "<p>5 rows × 21 columns</p>\n",
       "</div>"
      ],
      "text/plain": [
       "                review_id                 user_id             business_id  \\\n",
       "0  vkVSCC7xljjrAI4UGfnKEQ  bv2nCi5Qv5vroFiqKGopiw  AEx2SYEUJmTxVVB18LlCwA   \n",
       "1  vm1b1keOzwHjtGZEPPuYXA  xYciRtVZ1PW4IxSX4oJ1aw  AEx2SYEUJmTxVVB18LlCwA   \n",
       "2  SXwA9KZ-Nc_hMARk_3cJ7g  5Ymfsf9fAYz-Ds_p0xawVQ  AEx2SYEUJmTxVVB18LlCwA   \n",
       "3  jUzausdZ_ujqe_n8BlBj-g  DVOOF0Z627DyrZ4XKQbTgA  AEx2SYEUJmTxVVB18LlCwA   \n",
       "4  oCRDwF3tszAkeszSfxwthg  5JoKz3mU42Cp906KRXDwJw  AEx2SYEUJmTxVVB18LlCwA   \n",
       "\n",
       "   stars_review        date  \\\n",
       "0             5  2016-05-28   \n",
       "1             5  2016-02-22   \n",
       "2             5  2013-03-29   \n",
       "3             5  2017-08-08   \n",
       "4             4  2009-01-17   \n",
       "\n",
       "                                                text  useful  funny  cool  \\\n",
       "0  Super simple place but amazing nonetheless. It...       0      0     0   \n",
       "1  *The shop was featured on Mind of a Chef with ...       4      3     4   \n",
       "2  As its name suggests, Wilensky's is a lunch co...       9      0     3   \n",
       "3  Stopped by for the Wilensky's Special, loved i...       0      0     0   \n",
       "4  I have to admit, I am a fan. Just entering the...       4      0     1   \n",
       "\n",
       "           name              ...                                    address  \\\n",
       "0  \"Wilensky's\"              ...                \"34 Avenue Fairmount Ouest\"   \n",
       "1  \"Wilensky's\"              ...                \"34 Avenue Fairmount Ouest\"   \n",
       "2  \"Wilensky's\"              ...                \"34 Avenue Fairmount Ouest\"   \n",
       "3  \"Wilensky's\"              ...                \"34 Avenue Fairmount Ouest\"   \n",
       "4  \"Wilensky's\"              ...                \"34 Avenue Fairmount Ouest\"   \n",
       "\n",
       "       city state postal_code   latitude  longitude  stars_business  \\\n",
       "0  Montréal    QC     H2T 2M1  45.523333 -73.594859             4.0   \n",
       "1  Montréal    QC     H2T 2M1  45.523333 -73.594859             4.0   \n",
       "2  Montréal    QC     H2T 2M1  45.523333 -73.594859             4.0   \n",
       "3  Montréal    QC     H2T 2M1  45.523333 -73.594859             4.0   \n",
       "4  Montréal    QC     H2T 2M1  45.523333 -73.594859             4.0   \n",
       "\n",
       "   review_count  is_open                     categories  \n",
       "0            84        1  Diners;Food;Restaurants;Delis  \n",
       "1            84        1  Diners;Food;Restaurants;Delis  \n",
       "2            84        1  Diners;Food;Restaurants;Delis  \n",
       "3            84        1  Diners;Food;Restaurants;Delis  \n",
       "4            84        1  Diners;Food;Restaurants;Delis  \n",
       "\n",
       "[5 rows x 21 columns]"
      ]
     },
     "execution_count": 4,
     "metadata": {},
     "output_type": "execute_result"
    }
   ],
   "source": [
    "data.head()"
   ]
  },
  {
   "cell_type": "code",
   "execution_count": 5,
   "metadata": {},
   "outputs": [
    {
     "data": {
      "text/html": [
       "<div>\n",
       "<style scoped>\n",
       "    .dataframe tbody tr th:only-of-type {\n",
       "        vertical-align: middle;\n",
       "    }\n",
       "\n",
       "    .dataframe tbody tr th {\n",
       "        vertical-align: top;\n",
       "    }\n",
       "\n",
       "    .dataframe thead th {\n",
       "        text-align: right;\n",
       "    }\n",
       "</style>\n",
       "<table border=\"1\" class=\"dataframe\">\n",
       "  <thead>\n",
       "    <tr style=\"text-align: right;\">\n",
       "      <th></th>\n",
       "      <th>stars_review</th>\n",
       "      <th>useful</th>\n",
       "      <th>funny</th>\n",
       "      <th>cool</th>\n",
       "      <th>latitude</th>\n",
       "      <th>longitude</th>\n",
       "      <th>stars_business</th>\n",
       "      <th>review_count</th>\n",
       "      <th>is_open</th>\n",
       "    </tr>\n",
       "  </thead>\n",
       "  <tbody>\n",
       "    <tr>\n",
       "      <th>count</th>\n",
       "      <td>5.261668e+06</td>\n",
       "      <td>5.261668e+06</td>\n",
       "      <td>5.261668e+06</td>\n",
       "      <td>5.261668e+06</td>\n",
       "      <td>5.261643e+06</td>\n",
       "      <td>5.261643e+06</td>\n",
       "      <td>5.261668e+06</td>\n",
       "      <td>5.261668e+06</td>\n",
       "      <td>5.261668e+06</td>\n",
       "    </tr>\n",
       "    <tr>\n",
       "      <th>mean</th>\n",
       "      <td>3.727739e+00</td>\n",
       "      <td>1.385085e+00</td>\n",
       "      <td>5.091961e-01</td>\n",
       "      <td>5.860917e-01</td>\n",
       "      <td>3.731548e+01</td>\n",
       "      <td>-1.008361e+02</td>\n",
       "      <td>3.730661e+00</td>\n",
       "      <td>3.501504e+02</td>\n",
       "      <td>8.825796e-01</td>\n",
       "    </tr>\n",
       "    <tr>\n",
       "      <th>std</th>\n",
       "      <td>1.433593e+00</td>\n",
       "      <td>4.528727e+00</td>\n",
       "      <td>2.686168e+00</td>\n",
       "      <td>2.233706e+00</td>\n",
       "      <td>4.328716e+00</td>\n",
       "      <td>2.073080e+01</td>\n",
       "      <td>7.420560e-01</td>\n",
       "      <td>7.356107e+02</td>\n",
       "      <td>3.219206e-01</td>\n",
       "    </tr>\n",
       "    <tr>\n",
       "      <th>min</th>\n",
       "      <td>1.000000e+00</td>\n",
       "      <td>-1.000000e+00</td>\n",
       "      <td>0.000000e+00</td>\n",
       "      <td>-1.000000e+00</td>\n",
       "      <td>-3.608601e+01</td>\n",
       "      <td>-1.424666e+02</td>\n",
       "      <td>1.000000e+00</td>\n",
       "      <td>3.000000e+00</td>\n",
       "      <td>0.000000e+00</td>\n",
       "    </tr>\n",
       "    <tr>\n",
       "      <th>25%</th>\n",
       "      <td>3.000000e+00</td>\n",
       "      <td>0.000000e+00</td>\n",
       "      <td>0.000000e+00</td>\n",
       "      <td>0.000000e+00</td>\n",
       "      <td>3.361132e+01</td>\n",
       "      <td>-1.151540e+02</td>\n",
       "      <td>3.500000e+00</td>\n",
       "      <td>3.300000e+01</td>\n",
       "      <td>1.000000e+00</td>\n",
       "    </tr>\n",
       "    <tr>\n",
       "      <th>50%</th>\n",
       "      <td>4.000000e+00</td>\n",
       "      <td>0.000000e+00</td>\n",
       "      <td>0.000000e+00</td>\n",
       "      <td>0.000000e+00</td>\n",
       "      <td>3.610789e+01</td>\n",
       "      <td>-1.119615e+02</td>\n",
       "      <td>4.000000e+00</td>\n",
       "      <td>1.080000e+02</td>\n",
       "      <td>1.000000e+00</td>\n",
       "    </tr>\n",
       "    <tr>\n",
       "      <th>75%</th>\n",
       "      <td>5.000000e+00</td>\n",
       "      <td>2.000000e+00</td>\n",
       "      <td>0.000000e+00</td>\n",
       "      <td>1.000000e+00</td>\n",
       "      <td>4.045035e+01</td>\n",
       "      <td>-8.085488e+01</td>\n",
       "      <td>4.000000e+00</td>\n",
       "      <td>3.260000e+02</td>\n",
       "      <td>1.000000e+00</td>\n",
       "    </tr>\n",
       "    <tr>\n",
       "      <th>max</th>\n",
       "      <td>5.000000e+00</td>\n",
       "      <td>3.364000e+03</td>\n",
       "      <td>1.481000e+03</td>\n",
       "      <td>1.105000e+03</td>\n",
       "      <td>8.999931e+01</td>\n",
       "      <td>1.150868e+02</td>\n",
       "      <td>5.000000e+00</td>\n",
       "      <td>7.361000e+03</td>\n",
       "      <td>1.000000e+00</td>\n",
       "    </tr>\n",
       "  </tbody>\n",
       "</table>\n",
       "</div>"
      ],
      "text/plain": [
       "       stars_review        useful         funny          cool      latitude  \\\n",
       "count  5.261668e+06  5.261668e+06  5.261668e+06  5.261668e+06  5.261643e+06   \n",
       "mean   3.727739e+00  1.385085e+00  5.091961e-01  5.860917e-01  3.731548e+01   \n",
       "std    1.433593e+00  4.528727e+00  2.686168e+00  2.233706e+00  4.328716e+00   \n",
       "min    1.000000e+00 -1.000000e+00  0.000000e+00 -1.000000e+00 -3.608601e+01   \n",
       "25%    3.000000e+00  0.000000e+00  0.000000e+00  0.000000e+00  3.361132e+01   \n",
       "50%    4.000000e+00  0.000000e+00  0.000000e+00  0.000000e+00  3.610789e+01   \n",
       "75%    5.000000e+00  2.000000e+00  0.000000e+00  1.000000e+00  4.045035e+01   \n",
       "max    5.000000e+00  3.364000e+03  1.481000e+03  1.105000e+03  8.999931e+01   \n",
       "\n",
       "          longitude  stars_business  review_count       is_open  \n",
       "count  5.261643e+06    5.261668e+06  5.261668e+06  5.261668e+06  \n",
       "mean  -1.008361e+02    3.730661e+00  3.501504e+02  8.825796e-01  \n",
       "std    2.073080e+01    7.420560e-01  7.356107e+02  3.219206e-01  \n",
       "min   -1.424666e+02    1.000000e+00  3.000000e+00  0.000000e+00  \n",
       "25%   -1.151540e+02    3.500000e+00  3.300000e+01  1.000000e+00  \n",
       "50%   -1.119615e+02    4.000000e+00  1.080000e+02  1.000000e+00  \n",
       "75%   -8.085488e+01    4.000000e+00  3.260000e+02  1.000000e+00  \n",
       "max    1.150868e+02    5.000000e+00  7.361000e+03  1.000000e+00  "
      ]
     },
     "execution_count": 5,
     "metadata": {},
     "output_type": "execute_result"
    }
   ],
   "source": [
    "data.describe()"
   ]
  },
  {
   "cell_type": "code",
   "execution_count": 6,
   "metadata": {},
   "outputs": [
    {
     "data": {
      "image/png": "[encoded data removed]",
      "text/plain": [
       "<Figure size 432x288 with 2 Axes>"
      ]
     },
     "metadata": {},
     "output_type": "display_data"
    }
   ],
   "source": [
    "data[['stars_review', 'stars_business']].hist(bins=5, density=True);"
   ]
  },
  {
   "cell_type": "code",
   "execution_count": 7,
   "metadata": {},
   "outputs": [],
   "source": [
    "from sklearn.model_selection import train_test_split\n",
    "\n",
    "data_train, data_test = train_test_split(\n",
    "    data, \n",
    "    test_size=0.20,\n",
    "    random_state=42\n",
    ")"
   ]
  },
  {
   "cell_type": "code",
   "execution_count": 8,
   "metadata": {},
   "outputs": [],
   "source": [
    "from sklearn.feature_extraction.text import TfidfVectorizer\n",
    "from sklearn.linear_model import LogisticRegression\n",
    "from sklearn.pipeline import Pipeline\n",
    "\n",
    "tfidf = TfidfVectorizer(max_features=100000, ngram_range=(1, 2), max_df=2.0/3.0, binary=True)\n",
    "logit = LogisticRegression(class_weight='balanced', C=0.1)\n",
    "model = Pipeline([('tfidf', tfidf), ('logit', logit)])"
   ]
  },
  {
   "cell_type": "code",
   "execution_count": 9,
   "metadata": {},
   "outputs": [
    {
     "data": {
      "text/plain": [
       "0.700347988376314"
      ]
     },
     "execution_count": 9,
     "metadata": {},
     "output_type": "execute_result"
    }
   ],
   "source": [
    "model.fit(data_train.text, data_train.stars_review)\n",
    "model.score(data_test.text, data_test.stars_review)"
   ]
  },
  {
   "cell_type": "code",
   "execution_count": 10,
   "metadata": {},
   "outputs": [],
   "source": [
    "from sklearn.metrics import confusion_matrix\n",
    "\n",
    "pred = model.predict(data_test.text)\n",
    "confusion_all = confusion_matrix(data_test.stars_review, pred)\n",
    "confusion_all = confusion_all / confusion_all.sum(axis=1)[:, np.newaxis]"
   ]
  },
  {
   "cell_type": "code",
   "execution_count": 11,
   "metadata": {},
   "outputs": [
    {
     "data": {
      "image/png": "[encoded data removed]",
      "text/plain": [
       "<Figure size 432x288 with 2 Axes>"
      ]
     },
     "metadata": {},
     "output_type": "display_data"
    }
   ],
   "source": [
    "sns.heatmap(confusion_all, xticklabels=[1,2,3,4,5], yticklabels=[1,2,3,4,5], square=True)\n",
    "py.xlabel('Predicted Stars')\n",
    "py.ylabel('True Stars');"
   ]
  },
  {
   "cell_type": "code",
   "execution_count": 12,
   "metadata": {},
   "outputs": [
    {
     "data": {
      "text/plain": [
       "<BarContainer object of 5 artists>"
      ]
     },
     "execution_count": 12,
     "metadata": {},
     "output_type": "execute_result"
    },
    {
     "data": {
      "image/png": "[encoded data removed]",
      "text/plain": [
       "<Figure size 432x288 with 1 Axes>"
      ]
     },
     "metadata": {},
     "output_type": "display_data"
    }
   ],
   "source": [
    "scores = []\n",
    "for star in range(1, 6):\n",
    "    d = data_test[data_test.stars_business == star]\n",
    "    scores.append(model.score(d.text, d.stars_review))\n",
    "py.title(\"Model score by business average star\")\n",
    "py.bar(range(1, 6), scores)"
   ]
  },
  {
   "cell_type": "code",
   "execution_count": 13,
   "metadata": {},
   "outputs": [],
   "source": [
    "categories = set(cat for cats in data_test.categories.values for cat in cats.split(';'))"
   ]
  },
  {
   "cell_type": "code",
   "execution_count": 14,
   "metadata": {},
   "outputs": [],
   "source": [
    "category_scores = {}\n",
    "for cat in categories:\n",
    "    d = data_test[data_test.categories.str.contains(cat, regex=False)]\n",
    "    category_scores[cat] = (model.score(d.text, d.stars_review), d)"
   ]
  },
  {
   "cell_type": "code",
   "execution_count": 15,
   "metadata": {},
   "outputs": [],
   "source": [
    "category_scores_sort = sorted(category_scores.items(), key=lambda x: x[1][0])"
   ]
  },
  {
   "cell_type": "code",
   "execution_count": 18,
   "metadata": {},
   "outputs": [
    {
     "data": {
      "image/png": "[encoded data removed]",
      "text/plain": [
       "<Figure size 432x288 with 2 Axes>"
      ]
     },
     "metadata": {},
     "output_type": "display_data"
    }
   ],
   "source": [
    "lns1 = py.gca().plot([c[1][0] for c in category_scores_sort], label='model score')\n",
    "py.ylabel(\"Model Accuracy\")\n",
    "ax2 = py.gca().twinx()\n",
    "lns2 = ax2.plot([c[1][1].shape[0] for c in category_scores_sort], c='r', label='num samples')\n",
    "py.ylabel(\"Number of Samples\")\n",
    "\n",
    "lns = lns1+lns2\n",
    "labs = [l.get_label() for l in lns]\n",
    "py.legend(lns, labs, loc='center right')\n",
    "py.xticks([], []);"
   ]
  },
  {
   "cell_type": "code",
   "execution_count": 17,
   "metadata": {},
   "outputs": [
    {
     "data": {
      "text/plain": [
       "array(['Pet Services;Pet Sitting;Pets;Veterinarians',\n",
       "       'Bars;Nightlife;Dance Clubs;Gay Bars',\n",
       "       'Chinese;Japanese;Buffets;Restaurants;Sushi Bars',\n",
       "       'Food;Mediterranean;Food Trucks;Restaurants',\n",
       "       'Vietnamese;Restaurants',\n",
       "       'Bars;Mexican;Cocktail Bars;Restaurants;Nightlife',\n",
       "       'Medical Centers;Cannabis Clinics;Doctors;Naturopathic/Holistic;Health & Medical',\n",
       "       'Food;Specialty Food;Organic Stores;Vegan;Restaurants;Gluten-Free;Juice Bars & Smoothies',\n",
       "       'Museums;Local Flavor;Arts & Entertainment',\n",
       "       'Bars;Tapas/Small Plates;Beer;Wine & Spirits;Restaurants;Gastropubs;Food;Burgers;American (New);American (Traditional);Nightlife'],\n",
       "      dtype=object)"
      ]
     },
     "execution_count": 17,
     "metadata": {},
     "output_type": "execute_result"
    }
   ],
   "source": [
    "data_test.categories.values[:10]"
   ]
  },
  {
   "cell_type": "code",
   "execution_count": null,
   "metadata": {},
   "outputs": [],
   "source": []
  }
 ],
 "metadata": {
  "kernelspec": {
   "display_name": "Python 3",
   "language": "python",
   "name": "python3"
  },
  "language_info": {
   "codemirror_mode": {
    "name": "ipython",
    "version": 3
   },
   "file_extension": ".py",
   "mimetype": "text/x-python",
   "name": "python",
   "nbconvert_exporter": "python",
   "pygments_lexer": "ipython3",
   "version": "3.6.5"
  }
 },
 "nbformat": 4,
 "nbformat_minor": 2
}
