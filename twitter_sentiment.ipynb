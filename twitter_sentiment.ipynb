{
 "cells": [
  {
   "cell_type": "code",
   "execution_count": 1,
   "metadata": {},
   "outputs": [],
   "source": [
    "%matplotlib inline\n",
    "import seaborn as sns\n",
    "from IPython.core.pylabtools import figsize\n",
    "figsize(14, 7)"
   ]
  },
  {
   "cell_type": "code",
   "execution_count": 2,
   "metadata": {},
   "outputs": [],
   "source": [
    "import pandas as pd\n",
    "import numpy as np\n",
    "import pylab as py"
   ]
  },
  {
   "cell_type": "code",
   "execution_count": 76,
   "metadata": {},
   "outputs": [],
   "source": [
    "cols = ['sentiment','id','date','query_string','user','text']\n",
    "data = pd.read_csv(\"/data/datasets/social/twitter/sentiment140/training.1600000.processed.noemoticon.csv\",\n",
    "                   names=cols, header=None, encoding='latin1')\n",
    "data = data.sample(500000)"
   ]
  },
  {
   "cell_type": "code",
   "execution_count": 77,
   "metadata": {},
   "outputs": [
    {
     "data": {
      "text/html": [
       "<div>\n",
       "<style scoped>\n",
       "    .dataframe tbody tr th:only-of-type {\n",
       "        vertical-align: middle;\n",
       "    }\n",
       "\n",
       "    .dataframe tbody tr th {\n",
       "        vertical-align: top;\n",
       "    }\n",
       "\n",
       "    .dataframe thead th {\n",
       "        text-align: right;\n",
       "    }\n",
       "</style>\n",
       "<table border=\"1\" class=\"dataframe\">\n",
       "  <thead>\n",
       "    <tr style=\"text-align: right;\">\n",
       "      <th></th>\n",
       "      <th>sentiment</th>\n",
       "      <th>id</th>\n",
       "      <th>date</th>\n",
       "      <th>query_string</th>\n",
       "      <th>user</th>\n",
       "      <th>text</th>\n",
       "    </tr>\n",
       "  </thead>\n",
       "  <tbody>\n",
       "    <tr>\n",
       "      <th>556315</th>\n",
       "      <td>0</td>\n",
       "      <td>2204251355</td>\n",
       "      <td>Wed Jun 17 01:43:26 PDT 2009</td>\n",
       "      <td>NO_QUERY</td>\n",
       "      <td>LadyGooner</td>\n",
       "      <td>Bleugh I have a stomach bug, not good when you...</td>\n",
       "    </tr>\n",
       "    <tr>\n",
       "      <th>1490928</th>\n",
       "      <td>4</td>\n",
       "      <td>2069005638</td>\n",
       "      <td>Sun Jun 07 15:05:35 PDT 2009</td>\n",
       "      <td>NO_QUERY</td>\n",
       "      <td>YeliBear</td>\n",
       "      <td>My life &amp;gt; your life.</td>\n",
       "    </tr>\n",
       "    <tr>\n",
       "      <th>1462640</th>\n",
       "      <td>4</td>\n",
       "      <td>2064048625</td>\n",
       "      <td>Sun Jun 07 05:03:00 PDT 2009</td>\n",
       "      <td>NO_QUERY</td>\n",
       "      <td>syarif_m2e</td>\n",
       "      <td>@CarbonCopyBiB : I highly recommends you join ...</td>\n",
       "    </tr>\n",
       "    <tr>\n",
       "      <th>435593</th>\n",
       "      <td>0</td>\n",
       "      <td>2065461403</td>\n",
       "      <td>Sun Jun 07 08:38:37 PDT 2009</td>\n",
       "      <td>NO_QUERY</td>\n",
       "      <td>dannybanany</td>\n",
       "      <td>@Blazex3 holidays? ooh we had no holidays  dam...</td>\n",
       "    </tr>\n",
       "    <tr>\n",
       "      <th>228645</th>\n",
       "      <td>0</td>\n",
       "      <td>1978306830</td>\n",
       "      <td>Sat May 30 22:58:55 PDT 2009</td>\n",
       "      <td>NO_QUERY</td>\n",
       "      <td>kixxa</td>\n",
       "      <td>@bheerfan I think SyFy killed my James!  Does ...</td>\n",
       "    </tr>\n",
       "  </tbody>\n",
       "</table>\n",
       "</div>"
      ],
      "text/plain": [
       "         sentiment          id                          date query_string  \\\n",
       "556315           0  2204251355  Wed Jun 17 01:43:26 PDT 2009     NO_QUERY   \n",
       "1490928          4  2069005638  Sun Jun 07 15:05:35 PDT 2009     NO_QUERY   \n",
       "1462640          4  2064048625  Sun Jun 07 05:03:00 PDT 2009     NO_QUERY   \n",
       "435593           0  2065461403  Sun Jun 07 08:38:37 PDT 2009     NO_QUERY   \n",
       "228645           0  1978306830  Sat May 30 22:58:55 PDT 2009     NO_QUERY   \n",
       "\n",
       "                user                                               text  \n",
       "556315    LadyGooner  Bleugh I have a stomach bug, not good when you...  \n",
       "1490928     YeliBear                        My life &gt; your life.      \n",
       "1462640   syarif_m2e  @CarbonCopyBiB : I highly recommends you join ...  \n",
       "435593   dannybanany  @Blazex3 holidays? ooh we had no holidays  dam...  \n",
       "228645         kixxa  @bheerfan I think SyFy killed my James!  Does ...  "
      ]
     },
     "execution_count": 77,
     "metadata": {},
     "output_type": "execute_result"
    }
   ],
   "source": [
    "data.head()"
   ]
  },
  {
   "cell_type": "code",
   "execution_count": 78,
   "metadata": {},
   "outputs": [],
   "source": [
    "from sklearn.model_selection import train_test_split\n",
    "\n",
    "data_train, data_test = train_test_split(\n",
    "    data, \n",
    "    test_size=0.20,\n",
    "    random_state=42\n",
    ")"
   ]
  },
  {
   "cell_type": "code",
   "execution_count": 268,
   "metadata": {},
   "outputs": [],
   "source": [
    "from sklearn.feature_extraction.text import TfidfVectorizer\n",
    "from sklearn.linear_model import LogisticRegression\n",
    "from sklearn.pipeline import Pipeline\n",
    "\n",
    "tfidf = TfidfVectorizer(max_features=10000, ngram_range=(1, 2), max_df=2.0/3.0, binary=True)\n",
    "logit = LogisticRegression(class_weight='balanced', C=0.1)\n",
    "model = Pipeline([('tfidf', tfidf), ('logit', logit)])"
   ]
  },
  {
   "cell_type": "code",
   "execution_count": 269,
   "metadata": {},
   "outputs": [
    {
     "data": {
      "text/plain": [
       "0.7962"
      ]
     },
     "execution_count": 269,
     "metadata": {},
     "output_type": "execute_result"
    }
   ],
   "source": [
    "model.fit(data_train.text, data_train.sentiment)\n",
    "model.score(data_test.text, data_test.sentiment)"
   ]
  },
  {
   "cell_type": "code",
   "execution_count": 272,
   "metadata": {},
   "outputs": [
    {
     "name": "stdout",
     "output_type": "stream",
     "text": [
      "Most important words for +: [('you', 3.004132145265498), ('nice', 3.1222058394731045), ('great', 3.1434939922868272), ('glad', 3.278336660181925), ('yay', 3.431122391118869), ('awesome', 3.568674081508413), ('good', 3.7658594753668866), ('love', 3.794441162599605), ('happy', 3.904025259523036), ('thanks', 4.443269680301213)]\n",
      "Most important words for -: [('sad', -8.590006182583549), ('miss', -6.442455324906493), ('sick', -5.039256566991811), ('poor', -4.797896853101612), ('wish', -4.722988695612713), ('hate', -4.583896798510339), ('sucks', -4.553598764263066), ('sorry', -4.4736597370477424), ('missing', -4.427262223387092), ('not', -4.167816560124094)]\n"
     ]
    }
   ],
   "source": [
    "steps = dict(model.get_params()['steps'])\n",
    "vocabulary = steps['tfidf'].vocabulary_\n",
    "coef = steps['logit'].coef_\n",
    "word_importance = [(word, coef[0, idx]) for word, idx in vocabulary.items()]\n",
    "word_importance.sort(key=lambda x: x[1])\n",
    "print(\"Most important words for +:\", word_importance[-10:])\n",
    "print(\"Most important words for -:\", word_importance[:10])"
   ]
  },
  {
   "cell_type": "code",
   "execution_count": 193,
   "metadata": {},
   "outputs": [
    {
     "name": "stdout",
     "output_type": "stream",
     "text": [
      "Number of samples: 2925\n"
     ]
    }
   ],
   "source": [
    "data_claritin = pd.read_csv(\"/data/datasets/social/twitter/claritin_twitter/claritin_october_twitter.csv\",\n",
    "                            encoding='latin1')\n",
    "\n",
    "# only look at male/female (disregard the \"brand\" designator)\n",
    "data_claritin.dropna(subset=['sentiment', 'gender'], inplace=True)\n",
    "data_claritin = data_claritin.query('gender in (\"male\", \"female\")')\n",
    "data_claritin['gender'] = data_claritin.gender.astype('category')\n",
    "\n",
    "# re-normalize this dataset's sentiment classification by disregarding\n",
    "# neutral and having positive be 0 and negative be 4\n",
    "data_claritin = data_claritin[data_claritin.sentiment != 3]\n",
    "data_claritin['sentiment'] = (data_claritin.sentiment > 3) * 4\n",
    "\n",
    "# rename tweet text field to 'text' instead of 'content'\n",
    "data_claritin.rename(columns={'content': 'text'}, inplace=True)\n",
    "\n",
    "print(\"Number of samples:\", data_claritin.shape[0])"
   ]
  },
  {
   "cell_type": "code",
   "execution_count": 194,
   "metadata": {
    "scrolled": true
   },
   "outputs": [
    {
     "data": {
      "text/html": [
       "<div>\n",
       "<style scoped>\n",
       "    .dataframe tbody tr th:only-of-type {\n",
       "        vertical-align: middle;\n",
       "    }\n",
       "\n",
       "    .dataframe tbody tr th {\n",
       "        vertical-align: top;\n",
       "    }\n",
       "\n",
       "    .dataframe thead th {\n",
       "        text-align: right;\n",
       "    }\n",
       "</style>\n",
       "<table border=\"1\" class=\"dataframe\">\n",
       "  <thead>\n",
       "    <tr style=\"text-align: right;\">\n",
       "      <th></th>\n",
       "      <th>interaction.id</th>\n",
       "      <th>article_url</th>\n",
       "      <th>text</th>\n",
       "      <th>time</th>\n",
       "      <th>relevant</th>\n",
       "      <th>sentiment</th>\n",
       "      <th>gender</th>\n",
       "      <th>dizziness</th>\n",
       "      <th>convulsions</th>\n",
       "      <th>heart palpitations</th>\n",
       "      <th>shortness of breathe</th>\n",
       "      <th>headaches</th>\n",
       "      <th>drug effect decreased</th>\n",
       "      <th>allergies worse after taking drug</th>\n",
       "      <th>bad interaction between claritin and another drug.</th>\n",
       "      <th>nausea (made the person nauseous)</th>\n",
       "      <th>caused insomnia (the person wasn't able to sleep)</th>\n",
       "    </tr>\n",
       "  </thead>\n",
       "  <tbody>\n",
       "    <tr>\n",
       "      <th>7</th>\n",
       "      <td>1e21a5b0d2dfad00e074a6ced450fa86</td>\n",
       "      <td>http://twitter.com/SoulPunk5eva/statuses/25947...</td>\n",
       "      <td>Is there something you eat every day? Ûª_Ûª_...</td>\n",
       "      <td>Sat, 20 Oct 2012 02:08:34 +0000</td>\n",
       "      <td>yes</td>\n",
       "      <td>4</td>\n",
       "      <td>male</td>\n",
       "      <td>no</td>\n",
       "      <td>no</td>\n",
       "      <td>no</td>\n",
       "      <td>no</td>\n",
       "      <td>no</td>\n",
       "      <td>no</td>\n",
       "      <td>no</td>\n",
       "      <td>no</td>\n",
       "      <td>no</td>\n",
       "      <td>no</td>\n",
       "    </tr>\n",
       "    <tr>\n",
       "      <th>10</th>\n",
       "      <td>1e211b745aa1ad00e074d23de7a27a16</td>\n",
       "      <td>http://twitter.com/OwlsAreLove/statuses/255491...</td>\n",
       "      <td>spookclub: yeah i totally want the d. the clar...</td>\n",
       "      <td>Tue, 09 Oct 2012 02:16:02 +0000</td>\n",
       "      <td>yes</td>\n",
       "      <td>4</td>\n",
       "      <td>female</td>\n",
       "      <td>no</td>\n",
       "      <td>no</td>\n",
       "      <td>no</td>\n",
       "      <td>no</td>\n",
       "      <td>no</td>\n",
       "      <td>no</td>\n",
       "      <td>no</td>\n",
       "      <td>no</td>\n",
       "      <td>no</td>\n",
       "      <td>no</td>\n",
       "    </tr>\n",
       "    <tr>\n",
       "      <th>17</th>\n",
       "      <td>1e20ff3d801ca380e074ca38ec9f80a4</td>\n",
       "      <td>http://twitter.com/thefunkylobster/statuses/25...</td>\n",
       "      <td>spookclub: yeah i totally want the d. the clar...</td>\n",
       "      <td>Sat, 06 Oct 2012 20:24:35 +0000</td>\n",
       "      <td>yes</td>\n",
       "      <td>4</td>\n",
       "      <td>male</td>\n",
       "      <td>no</td>\n",
       "      <td>no</td>\n",
       "      <td>no</td>\n",
       "      <td>no</td>\n",
       "      <td>no</td>\n",
       "      <td>no</td>\n",
       "      <td>no</td>\n",
       "      <td>no</td>\n",
       "      <td>no</td>\n",
       "      <td>no</td>\n",
       "    </tr>\n",
       "    <tr>\n",
       "      <th>55</th>\n",
       "      <td>1e2174ebc628af80e074cbfaa8933246</td>\n",
       "      <td>http://twitter.com/lollipopscards/statuses/258...</td>\n",
       "      <td>well, wholeliving mag this makes for a strange...</td>\n",
       "      <td>Tue, 16 Oct 2012 05:02:51 +0000</td>\n",
       "      <td>yes</td>\n",
       "      <td>0</td>\n",
       "      <td>female</td>\n",
       "      <td>no</td>\n",
       "      <td>no</td>\n",
       "      <td>no</td>\n",
       "      <td>no</td>\n",
       "      <td>no</td>\n",
       "      <td>no</td>\n",
       "      <td>no</td>\n",
       "      <td>no</td>\n",
       "      <td>no</td>\n",
       "      <td>no</td>\n",
       "    </tr>\n",
       "    <tr>\n",
       "      <th>56</th>\n",
       "      <td>1e2174fc9cc4a980e074ff06c5e66b1a</td>\n",
       "      <td>http://twitter.com/traviseckstein/statuses/258...</td>\n",
       "      <td>She wants the Claritin, D. http://t.co/5LjLA2yi</td>\n",
       "      <td>Tue, 16 Oct 2012 05:10:23 +0000</td>\n",
       "      <td>yes</td>\n",
       "      <td>4</td>\n",
       "      <td>male</td>\n",
       "      <td>no</td>\n",
       "      <td>no</td>\n",
       "      <td>no</td>\n",
       "      <td>no</td>\n",
       "      <td>no</td>\n",
       "      <td>no</td>\n",
       "      <td>no</td>\n",
       "      <td>no</td>\n",
       "      <td>no</td>\n",
       "      <td>no</td>\n",
       "    </tr>\n",
       "  </tbody>\n",
       "</table>\n",
       "</div>"
      ],
      "text/plain": [
       "                      interaction.id  \\\n",
       "7   1e21a5b0d2dfad00e074a6ced450fa86   \n",
       "10  1e211b745aa1ad00e074d23de7a27a16   \n",
       "17  1e20ff3d801ca380e074ca38ec9f80a4   \n",
       "55  1e2174ebc628af80e074cbfaa8933246   \n",
       "56  1e2174fc9cc4a980e074ff06c5e66b1a   \n",
       "\n",
       "                                          article_url  \\\n",
       "7   http://twitter.com/SoulPunk5eva/statuses/25947...   \n",
       "10  http://twitter.com/OwlsAreLove/statuses/255491...   \n",
       "17  http://twitter.com/thefunkylobster/statuses/25...   \n",
       "55  http://twitter.com/lollipopscards/statuses/258...   \n",
       "56  http://twitter.com/traviseckstein/statuses/258...   \n",
       "\n",
       "                                                 text  \\\n",
       "7   Is there something you eat every day? Ûª_Ûª_...   \n",
       "10  spookclub: yeah i totally want the d. the clar...   \n",
       "17  spookclub: yeah i totally want the d. the clar...   \n",
       "55  well, wholeliving mag this makes for a strange...   \n",
       "56    She wants the Claritin, D. http://t.co/5LjLA2yi   \n",
       "\n",
       "                               time relevant  sentiment  gender dizziness  \\\n",
       "7   Sat, 20 Oct 2012 02:08:34 +0000      yes          4    male        no   \n",
       "10  Tue, 09 Oct 2012 02:16:02 +0000      yes          4  female        no   \n",
       "17  Sat, 06 Oct 2012 20:24:35 +0000      yes          4    male        no   \n",
       "55  Tue, 16 Oct 2012 05:02:51 +0000      yes          0  female        no   \n",
       "56  Tue, 16 Oct 2012 05:10:23 +0000      yes          4    male        no   \n",
       "\n",
       "   convulsions heart palpitations shortness of breathe headaches  \\\n",
       "7           no                 no                   no        no   \n",
       "10          no                 no                   no        no   \n",
       "17          no                 no                   no        no   \n",
       "55          no                 no                   no        no   \n",
       "56          no                 no                   no        no   \n",
       "\n",
       "   drug effect decreased allergies worse after taking drug  \\\n",
       "7                     no                                no   \n",
       "10                    no                                no   \n",
       "17                    no                                no   \n",
       "55                    no                                no   \n",
       "56                    no                                no   \n",
       "\n",
       "   bad interaction between claritin and another drug.  \\\n",
       "7                                                  no   \n",
       "10                                                 no   \n",
       "17                                                 no   \n",
       "55                                                 no   \n",
       "56                                                 no   \n",
       "\n",
       "   nausea (made the person nauseous)  \\\n",
       "7                                 no   \n",
       "10                                no   \n",
       "17                                no   \n",
       "55                                no   \n",
       "56                                no   \n",
       "\n",
       "   caused insomnia (the person wasn't able to sleep)  \n",
       "7                                                 no  \n",
       "10                                                no  \n",
       "17                                                no  \n",
       "55                                                no  \n",
       "56                                                no  "
      ]
     },
     "execution_count": 194,
     "metadata": {},
     "output_type": "execute_result"
    }
   ],
   "source": [
    "data_claritin.head()"
   ]
  },
  {
   "cell_type": "code",
   "execution_count": 195,
   "metadata": {},
   "outputs": [],
   "source": [
    "# balance the claritin dataset between gender and sentiment\n",
    "def balance_column(df, column):\n",
    "    g = df.groupby(column)\n",
    "    min_group = g.size().min()\n",
    "    return g.apply(lambda x: x.sample(min_group)).reset_index(drop=True)\n",
    "data_claritin = balance_column(data_claritin, ['sentiment', 'gender'])"
   ]
  },
  {
   "cell_type": "code",
   "execution_count": 196,
   "metadata": {},
   "outputs": [
    {
     "data": {
      "image/png": "[encoded data removed]",
      "text/plain": [
       "<Figure size 432x288 with 1 Axes>"
      ]
     },
     "metadata": {},
     "output_type": "display_data"
    }
   ],
   "source": [
    "data_claritin.hist('sentiment');"
   ]
  },
  {
   "cell_type": "code",
   "execution_count": 197,
   "metadata": {},
   "outputs": [
    {
     "data": {
      "image/png": "[encoded data removed]",
      "text/plain": [
       "<Figure size 432x288 with 1 Axes>"
      ]
     },
     "metadata": {},
     "output_type": "display_data"
    }
   ],
   "source": [
    "data_claritin.gender.value_counts().plot(kind='bar')\n",
    "py.title(\"gender\");"
   ]
  },
  {
   "cell_type": "code",
   "execution_count": 198,
   "metadata": {},
   "outputs": [
    {
     "data": {
      "text/plain": [
       "0.654054054054054"
      ]
     },
     "execution_count": 198,
     "metadata": {},
     "output_type": "execute_result"
    }
   ],
   "source": [
    "model.score(data_claritin.text, data_claritin.sentiment)"
   ]
  },
  {
   "cell_type": "code",
   "execution_count": 199,
   "metadata": {},
   "outputs": [],
   "source": [
    "from scipy.stats import pearsonr\n",
    "def sentiment_correlation(model, data):\n",
    "    return model.score(data.text, data.sentiment)\n",
    "    pred = model.predict(data.text)\n",
    "    corr = pearsonr(data.sentiment, pred)[0]\n",
    "    return corr"
   ]
  },
  {
   "cell_type": "code",
   "execution_count": 200,
   "metadata": {},
   "outputs": [
    {
     "name": "stdout",
     "output_type": "stream",
     "text": [
      "Original Data: 0.79622\n",
      "All Data: 0.654054054054054\n",
      "Female: 0.6783783783783783\n",
      "Male: 0.6297297297297297\n"
     ]
    }
   ],
   "source": [
    "female = data_claritin.gender == 'female'\n",
    "male = data_claritin.gender == 'male'\n",
    "\n",
    "print(\"Original Data:\", sentiment_correlation(model, data_test))\n",
    "print(\"All Data:\", sentiment_correlation(model, data_claritin))\n",
    "print(\"Female:\", sentiment_correlation(model, data_claritin[female]))\n",
    "print(\"Male:\", sentiment_correlation(model, data_claritin[male]))"
   ]
  },
  {
   "cell_type": "code",
   "execution_count": null,
   "metadata": {},
   "outputs": [],
   "source": []
  },
  {
   "cell_type": "code",
   "execution_count": null,
   "metadata": {},
   "outputs": [],
   "source": []
  }
 ],
 "metadata": {
  "kernelspec": {
   "display_name": "Python 3",
   "language": "python",
   "name": "python3"
  },
  "language_info": {
   "codemirror_mode": {
    "name": "ipython",
    "version": 3
   },
   "file_extension": ".py",
   "mimetype": "text/x-python",
   "name": "python",
   "nbconvert_exporter": "python",
   "pygments_lexer": "ipython3",
   "version": "3.6.5"
  }
 },
 "nbformat": 4,
 "nbformat_minor": 2
}
